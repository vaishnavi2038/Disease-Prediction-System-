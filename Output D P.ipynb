{
 "cells": [
  {
   "cell_type": "code",
   "execution_count": 1,
   "id": "anonymous-phone",
   "metadata": {},
   "outputs": [],
   "source": [
    "import pandas as pd\n",
    "import numpy as np \n",
    "df1=pd.read_csv(\"Symptom_severity1.csv\")\n",
    "df2=pd.read_csv(\"symptom_Description.csv\")\n",
    "df3=pd.read_csv(\"symptom_precaution.csv\")"
   ]
  },
  {
   "cell_type": "code",
   "execution_count": 2,
   "id": "prescribed-sector",
   "metadata": {},
   "outputs": [
    {
     "data": {
      "text/html": [
       "<div>\n",
       "<style scoped>\n",
       "    .dataframe tbody tr th:only-of-type {\n",
       "        vertical-align: middle;\n",
       "    }\n",
       "\n",
       "    .dataframe tbody tr th {\n",
       "        vertical-align: top;\n",
       "    }\n",
       "\n",
       "    .dataframe thead th {\n",
       "        text-align: right;\n",
       "    }\n",
       "</style>\n",
       "<table border=\"1\" class=\"dataframe\">\n",
       "  <thead>\n",
       "    <tr style=\"text-align: right;\">\n",
       "      <th></th>\n",
       "      <th>Disease</th>\n",
       "      <th>Description</th>\n",
       "    </tr>\n",
       "  </thead>\n",
       "  <tbody>\n",
       "    <tr>\n",
       "      <th>0</th>\n",
       "      <td>Drug Reaction</td>\n",
       "      <td>An adverse drug reaction (ADR) is an injury ca...</td>\n",
       "    </tr>\n",
       "    <tr>\n",
       "      <th>1</th>\n",
       "      <td>Malaria</td>\n",
       "      <td>An infectious disease caused by protozoan para...</td>\n",
       "    </tr>\n",
       "    <tr>\n",
       "      <th>2</th>\n",
       "      <td>Allergy</td>\n",
       "      <td>An allergy is an immune system response to a f...</td>\n",
       "    </tr>\n",
       "    <tr>\n",
       "      <th>3</th>\n",
       "      <td>Hypothyroidism</td>\n",
       "      <td>Hypothyroidism, also called underactive thyroi...</td>\n",
       "    </tr>\n",
       "    <tr>\n",
       "      <th>4</th>\n",
       "      <td>Psoriasis</td>\n",
       "      <td>Psoriasis is a common skin disorder that forms...</td>\n",
       "    </tr>\n",
       "  </tbody>\n",
       "</table>\n",
       "</div>"
      ],
      "text/plain": [
       "          Disease                                        Description\n",
       "0   Drug Reaction  An adverse drug reaction (ADR) is an injury ca...\n",
       "1         Malaria  An infectious disease caused by protozoan para...\n",
       "2         Allergy  An allergy is an immune system response to a f...\n",
       "3  Hypothyroidism  Hypothyroidism, also called underactive thyroi...\n",
       "4       Psoriasis  Psoriasis is a common skin disorder that forms..."
      ]
     },
     "execution_count": 2,
     "metadata": {},
     "output_type": "execute_result"
    }
   ],
   "source": [
    "df2.head()"
   ]
  },
  {
   "cell_type": "code",
   "execution_count": 3,
   "id": "unlike-commission",
   "metadata": {},
   "outputs": [
    {
     "data": {
      "text/html": [
       "<div>\n",
       "<style scoped>\n",
       "    .dataframe tbody tr th:only-of-type {\n",
       "        vertical-align: middle;\n",
       "    }\n",
       "\n",
       "    .dataframe tbody tr th {\n",
       "        vertical-align: top;\n",
       "    }\n",
       "\n",
       "    .dataframe thead th {\n",
       "        text-align: right;\n",
       "    }\n",
       "</style>\n",
       "<table border=\"1\" class=\"dataframe\">\n",
       "  <thead>\n",
       "    <tr style=\"text-align: right;\">\n",
       "      <th></th>\n",
       "      <th>Disease</th>\n",
       "      <th>Precaution_1</th>\n",
       "      <th>Precaution_2</th>\n",
       "      <th>Precaution_3</th>\n",
       "      <th>Precaution_4</th>\n",
       "    </tr>\n",
       "  </thead>\n",
       "  <tbody>\n",
       "    <tr>\n",
       "      <th>0</th>\n",
       "      <td>Drug Reaction</td>\n",
       "      <td>stop irritation</td>\n",
       "      <td>consult nearest hospital</td>\n",
       "      <td>stop taking drug</td>\n",
       "      <td>follow up</td>\n",
       "    </tr>\n",
       "    <tr>\n",
       "      <th>1</th>\n",
       "      <td>Malaria</td>\n",
       "      <td>Consult nearest hospital</td>\n",
       "      <td>avoid oily food</td>\n",
       "      <td>avoid non veg food</td>\n",
       "      <td>keep mosquitos out</td>\n",
       "    </tr>\n",
       "    <tr>\n",
       "      <th>2</th>\n",
       "      <td>Allergy</td>\n",
       "      <td>apply calamine</td>\n",
       "      <td>cover area with bandage</td>\n",
       "      <td>NaN</td>\n",
       "      <td>use ice to compress itching</td>\n",
       "    </tr>\n",
       "    <tr>\n",
       "      <th>3</th>\n",
       "      <td>Hypothyroidism</td>\n",
       "      <td>reduce stress</td>\n",
       "      <td>exercise</td>\n",
       "      <td>eat healthy</td>\n",
       "      <td>get proper sleep</td>\n",
       "    </tr>\n",
       "    <tr>\n",
       "      <th>4</th>\n",
       "      <td>Psoriasis</td>\n",
       "      <td>wash hands with warm soapy water</td>\n",
       "      <td>stop bleeding using pressure</td>\n",
       "      <td>consult doctor</td>\n",
       "      <td>salt baths</td>\n",
       "    </tr>\n",
       "  </tbody>\n",
       "</table>\n",
       "</div>"
      ],
      "text/plain": [
       "          Disease                      Precaution_1  \\\n",
       "0   Drug Reaction                   stop irritation   \n",
       "1         Malaria          Consult nearest hospital   \n",
       "2         Allergy                    apply calamine   \n",
       "3  Hypothyroidism                     reduce stress   \n",
       "4       Psoriasis  wash hands with warm soapy water   \n",
       "\n",
       "                   Precaution_2        Precaution_3  \\\n",
       "0      consult nearest hospital    stop taking drug   \n",
       "1               avoid oily food  avoid non veg food   \n",
       "2       cover area with bandage                 NaN   \n",
       "3                      exercise         eat healthy   \n",
       "4  stop bleeding using pressure      consult doctor   \n",
       "\n",
       "                  Precaution_4  \n",
       "0                    follow up  \n",
       "1           keep mosquitos out  \n",
       "2  use ice to compress itching  \n",
       "3             get proper sleep  \n",
       "4                   salt baths  "
      ]
     },
     "execution_count": 3,
     "metadata": {},
     "output_type": "execute_result"
    }
   ],
   "source": [
    "df3.head()"
   ]
  },
  {
   "cell_type": "code",
   "execution_count": 4,
   "id": "narrow-donor",
   "metadata": {},
   "outputs": [
    {
     "data": {
      "text/plain": [
       "(41, 2)"
      ]
     },
     "execution_count": 4,
     "metadata": {},
     "output_type": "execute_result"
    }
   ],
   "source": [
    "df2.shape"
   ]
  },
  {
   "cell_type": "code",
   "execution_count": 5,
   "id": "mature-capability",
   "metadata": {},
   "outputs": [
    {
     "data": {
      "text/plain": [
       "(41, 5)"
      ]
     },
     "execution_count": 5,
     "metadata": {},
     "output_type": "execute_result"
    }
   ],
   "source": [
    "df3.shape"
   ]
  },
  {
   "cell_type": "code",
   "execution_count": 6,
   "id": "brutal-technique",
   "metadata": {},
   "outputs": [
    {
     "data": {
      "text/plain": [
       "Disease        0\n",
       "Description    0\n",
       "dtype: int64"
      ]
     },
     "execution_count": 6,
     "metadata": {},
     "output_type": "execute_result"
    }
   ],
   "source": [
    "df2.isnull().sum()"
   ]
  },
  {
   "cell_type": "code",
   "execution_count": 7,
   "id": "complimentary-marina",
   "metadata": {},
   "outputs": [
    {
     "data": {
      "text/plain": [
       "Disease         0\n",
       "Precaution_1    0\n",
       "Precaution_2    0\n",
       "Precaution_3    1\n",
       "Precaution_4    1\n",
       "dtype: int64"
      ]
     },
     "execution_count": 7,
     "metadata": {},
     "output_type": "execute_result"
    }
   ],
   "source": [
    "df3.isnull().sum()"
   ]
  },
  {
   "cell_type": "code",
   "execution_count": 8,
   "id": "continued-treasurer",
   "metadata": {},
   "outputs": [
    {
     "data": {
      "text/html": [
       "<div>\n",
       "<style scoped>\n",
       "    .dataframe tbody tr th:only-of-type {\n",
       "        vertical-align: middle;\n",
       "    }\n",
       "\n",
       "    .dataframe tbody tr th {\n",
       "        vertical-align: top;\n",
       "    }\n",
       "\n",
       "    .dataframe thead th {\n",
       "        text-align: right;\n",
       "    }\n",
       "</style>\n",
       "<table border=\"1\" class=\"dataframe\">\n",
       "  <thead>\n",
       "    <tr style=\"text-align: right;\">\n",
       "      <th></th>\n",
       "      <th>Disease</th>\n",
       "      <th>Precaution_1</th>\n",
       "      <th>Precaution_2</th>\n",
       "      <th>Precaution_3</th>\n",
       "      <th>Precaution_4</th>\n",
       "    </tr>\n",
       "  </thead>\n",
       "  <tbody>\n",
       "    <tr>\n",
       "      <th>0</th>\n",
       "      <td>Drug Reaction</td>\n",
       "      <td>stop irritation</td>\n",
       "      <td>consult nearest hospital</td>\n",
       "      <td>stop taking drug</td>\n",
       "      <td>follow up</td>\n",
       "    </tr>\n",
       "    <tr>\n",
       "      <th>1</th>\n",
       "      <td>Malaria</td>\n",
       "      <td>Consult nearest hospital</td>\n",
       "      <td>avoid oily food</td>\n",
       "      <td>avoid non veg food</td>\n",
       "      <td>keep mosquitos out</td>\n",
       "    </tr>\n",
       "    <tr>\n",
       "      <th>2</th>\n",
       "      <td>Allergy</td>\n",
       "      <td>apply calamine</td>\n",
       "      <td>cover area with bandage</td>\n",
       "      <td></td>\n",
       "      <td>use ice to compress itching</td>\n",
       "    </tr>\n",
       "    <tr>\n",
       "      <th>3</th>\n",
       "      <td>Hypothyroidism</td>\n",
       "      <td>reduce stress</td>\n",
       "      <td>exercise</td>\n",
       "      <td>eat healthy</td>\n",
       "      <td>get proper sleep</td>\n",
       "    </tr>\n",
       "    <tr>\n",
       "      <th>4</th>\n",
       "      <td>Psoriasis</td>\n",
       "      <td>wash hands with warm soapy water</td>\n",
       "      <td>stop bleeding using pressure</td>\n",
       "      <td>consult doctor</td>\n",
       "      <td>salt baths</td>\n",
       "    </tr>\n",
       "  </tbody>\n",
       "</table>\n",
       "</div>"
      ],
      "text/plain": [
       "          Disease                      Precaution_1  \\\n",
       "0   Drug Reaction                   stop irritation   \n",
       "1         Malaria          Consult nearest hospital   \n",
       "2         Allergy                    apply calamine   \n",
       "3  Hypothyroidism                     reduce stress   \n",
       "4       Psoriasis  wash hands with warm soapy water   \n",
       "\n",
       "                   Precaution_2        Precaution_3  \\\n",
       "0      consult nearest hospital    stop taking drug   \n",
       "1               avoid oily food  avoid non veg food   \n",
       "2       cover area with bandage                       \n",
       "3                      exercise         eat healthy   \n",
       "4  stop bleeding using pressure      consult doctor   \n",
       "\n",
       "                  Precaution_4  \n",
       "0                    follow up  \n",
       "1           keep mosquitos out  \n",
       "2  use ice to compress itching  \n",
       "3             get proper sleep  \n",
       "4                   salt baths  "
      ]
     },
     "execution_count": 8,
     "metadata": {},
     "output_type": "execute_result"
    }
   ],
   "source": [
    "df3=df3.fillna(\"\")\n",
    "df3.head()"
   ]
  },
  {
   "cell_type": "code",
   "execution_count": 9,
   "id": "ready-provider",
   "metadata": {},
   "outputs": [
    {
     "data": {
      "text/html": [
       "<div>\n",
       "<style scoped>\n",
       "    .dataframe tbody tr th:only-of-type {\n",
       "        vertical-align: middle;\n",
       "    }\n",
       "\n",
       "    .dataframe tbody tr th {\n",
       "        vertical-align: top;\n",
       "    }\n",
       "\n",
       "    .dataframe thead th {\n",
       "        text-align: right;\n",
       "    }\n",
       "</style>\n",
       "<table border=\"1\" class=\"dataframe\">\n",
       "  <thead>\n",
       "    <tr style=\"text-align: right;\">\n",
       "      <th></th>\n",
       "      <th>Disease</th>\n",
       "      <th>Precaution_1</th>\n",
       "      <th>Precaution_2</th>\n",
       "      <th>Precaution_3</th>\n",
       "      <th>Precaution_4</th>\n",
       "      <th>Precaution</th>\n",
       "    </tr>\n",
       "  </thead>\n",
       "  <tbody>\n",
       "    <tr>\n",
       "      <th>0</th>\n",
       "      <td>Drug Reaction</td>\n",
       "      <td>stop irritation</td>\n",
       "      <td>consult nearest hospital</td>\n",
       "      <td>stop taking drug</td>\n",
       "      <td>follow up</td>\n",
       "      <td>stop irritation, consult nearest hospital, sto...</td>\n",
       "    </tr>\n",
       "    <tr>\n",
       "      <th>1</th>\n",
       "      <td>Malaria</td>\n",
       "      <td>Consult nearest hospital</td>\n",
       "      <td>avoid oily food</td>\n",
       "      <td>avoid non veg food</td>\n",
       "      <td>keep mosquitos out</td>\n",
       "      <td>Consult nearest hospital, avoid oily food, avo...</td>\n",
       "    </tr>\n",
       "    <tr>\n",
       "      <th>2</th>\n",
       "      <td>Allergy</td>\n",
       "      <td>apply calamine</td>\n",
       "      <td>cover area with bandage</td>\n",
       "      <td></td>\n",
       "      <td>use ice to compress itching</td>\n",
       "      <td>apply calamine, cover area with bandage, , use...</td>\n",
       "    </tr>\n",
       "    <tr>\n",
       "      <th>3</th>\n",
       "      <td>Hypothyroidism</td>\n",
       "      <td>reduce stress</td>\n",
       "      <td>exercise</td>\n",
       "      <td>eat healthy</td>\n",
       "      <td>get proper sleep</td>\n",
       "      <td>reduce stress, exercise, eat healthy, get prop...</td>\n",
       "    </tr>\n",
       "    <tr>\n",
       "      <th>4</th>\n",
       "      <td>Psoriasis</td>\n",
       "      <td>wash hands with warm soapy water</td>\n",
       "      <td>stop bleeding using pressure</td>\n",
       "      <td>consult doctor</td>\n",
       "      <td>salt baths</td>\n",
       "      <td>wash hands with warm soapy water, stop bleedin...</td>\n",
       "    </tr>\n",
       "  </tbody>\n",
       "</table>\n",
       "</div>"
      ],
      "text/plain": [
       "          Disease                      Precaution_1  \\\n",
       "0   Drug Reaction                   stop irritation   \n",
       "1         Malaria          Consult nearest hospital   \n",
       "2         Allergy                    apply calamine   \n",
       "3  Hypothyroidism                     reduce stress   \n",
       "4       Psoriasis  wash hands with warm soapy water   \n",
       "\n",
       "                   Precaution_2        Precaution_3  \\\n",
       "0      consult nearest hospital    stop taking drug   \n",
       "1               avoid oily food  avoid non veg food   \n",
       "2       cover area with bandage                       \n",
       "3                      exercise         eat healthy   \n",
       "4  stop bleeding using pressure      consult doctor   \n",
       "\n",
       "                  Precaution_4  \\\n",
       "0                    follow up   \n",
       "1           keep mosquitos out   \n",
       "2  use ice to compress itching   \n",
       "3             get proper sleep   \n",
       "4                   salt baths   \n",
       "\n",
       "                                          Precaution  \n",
       "0  stop irritation, consult nearest hospital, sto...  \n",
       "1  Consult nearest hospital, avoid oily food, avo...  \n",
       "2  apply calamine, cover area with bandage, , use...  \n",
       "3  reduce stress, exercise, eat healthy, get prop...  \n",
       "4  wash hands with warm soapy water, stop bleedin...  "
      ]
     },
     "execution_count": 9,
     "metadata": {},
     "output_type": "execute_result"
    }
   ],
   "source": [
    "df3[\"Precaution\"]=df3[\"Precaution_1\"]+(\", \")+df3[\"Precaution_2\"]+(\", \")+df3[\"Precaution_3\"]+(\", \")+df3[\"Precaution_4\"]\n",
    "df3.head()"
   ]
  },
  {
   "cell_type": "code",
   "execution_count": 10,
   "id": "valued-trinidad",
   "metadata": {},
   "outputs": [
    {
     "data": {
      "text/html": [
       "<div>\n",
       "<style scoped>\n",
       "    .dataframe tbody tr th:only-of-type {\n",
       "        vertical-align: middle;\n",
       "    }\n",
       "\n",
       "    .dataframe tbody tr th {\n",
       "        vertical-align: top;\n",
       "    }\n",
       "\n",
       "    .dataframe thead th {\n",
       "        text-align: right;\n",
       "    }\n",
       "</style>\n",
       "<table border=\"1\" class=\"dataframe\">\n",
       "  <thead>\n",
       "    <tr style=\"text-align: right;\">\n",
       "      <th></th>\n",
       "      <th>Precaution</th>\n",
       "    </tr>\n",
       "  </thead>\n",
       "  <tbody>\n",
       "    <tr>\n",
       "      <th>0</th>\n",
       "      <td>stop irritation, consult nearest hospital, sto...</td>\n",
       "    </tr>\n",
       "    <tr>\n",
       "      <th>1</th>\n",
       "      <td>Consult nearest hospital, avoid oily food, avo...</td>\n",
       "    </tr>\n",
       "    <tr>\n",
       "      <th>2</th>\n",
       "      <td>apply calamine, cover area with bandage, , use...</td>\n",
       "    </tr>\n",
       "    <tr>\n",
       "      <th>3</th>\n",
       "      <td>reduce stress, exercise, eat healthy, get prop...</td>\n",
       "    </tr>\n",
       "    <tr>\n",
       "      <th>4</th>\n",
       "      <td>wash hands with warm soapy water, stop bleedin...</td>\n",
       "    </tr>\n",
       "  </tbody>\n",
       "</table>\n",
       "</div>"
      ],
      "text/plain": [
       "                                          Precaution\n",
       "0  stop irritation, consult nearest hospital, sto...\n",
       "1  Consult nearest hospital, avoid oily food, avo...\n",
       "2  apply calamine, cover area with bandage, , use...\n",
       "3  reduce stress, exercise, eat healthy, get prop...\n",
       "4  wash hands with warm soapy water, stop bleedin..."
      ]
     },
     "execution_count": 10,
     "metadata": {},
     "output_type": "execute_result"
    }
   ],
   "source": [
    "f=df3.drop(\"Precaution_1\",axis=1)\n",
    "f=f.drop(\"Precaution_2\",axis=1)\n",
    "f=f.drop(\"Precaution_3\",axis=1)\n",
    "f=f.drop(\"Precaution_4\",axis=1)\n",
    "df3=f.drop(\"Disease\",axis=1)\n",
    "df3.head()\n"
   ]
  },
  {
   "cell_type": "code",
   "execution_count": 11,
   "id": "egyptian-failing",
   "metadata": {},
   "outputs": [
    {
     "data": {
      "text/html": [
       "<div>\n",
       "<style scoped>\n",
       "    .dataframe tbody tr th:only-of-type {\n",
       "        vertical-align: middle;\n",
       "    }\n",
       "\n",
       "    .dataframe tbody tr th {\n",
       "        vertical-align: top;\n",
       "    }\n",
       "\n",
       "    .dataframe thead th {\n",
       "        text-align: right;\n",
       "    }\n",
       "</style>\n",
       "<table border=\"1\" class=\"dataframe\">\n",
       "  <thead>\n",
       "    <tr style=\"text-align: right;\">\n",
       "      <th></th>\n",
       "      <th>Disease</th>\n",
       "      <th>Description</th>\n",
       "      <th>Precaution</th>\n",
       "    </tr>\n",
       "  </thead>\n",
       "  <tbody>\n",
       "    <tr>\n",
       "      <th>0</th>\n",
       "      <td>Drug Reaction</td>\n",
       "      <td>An adverse drug reaction (ADR) is an injury ca...</td>\n",
       "      <td>stop irritation, consult nearest hospital, sto...</td>\n",
       "    </tr>\n",
       "    <tr>\n",
       "      <th>1</th>\n",
       "      <td>Malaria</td>\n",
       "      <td>An infectious disease caused by protozoan para...</td>\n",
       "      <td>Consult nearest hospital, avoid oily food, avo...</td>\n",
       "    </tr>\n",
       "    <tr>\n",
       "      <th>2</th>\n",
       "      <td>Allergy</td>\n",
       "      <td>An allergy is an immune system response to a f...</td>\n",
       "      <td>apply calamine, cover area with bandage, , use...</td>\n",
       "    </tr>\n",
       "    <tr>\n",
       "      <th>3</th>\n",
       "      <td>Hypothyroidism</td>\n",
       "      <td>Hypothyroidism, also called underactive thyroi...</td>\n",
       "      <td>reduce stress, exercise, eat healthy, get prop...</td>\n",
       "    </tr>\n",
       "    <tr>\n",
       "      <th>4</th>\n",
       "      <td>Psoriasis</td>\n",
       "      <td>Psoriasis is a common skin disorder that forms...</td>\n",
       "      <td>wash hands with warm soapy water, stop bleedin...</td>\n",
       "    </tr>\n",
       "  </tbody>\n",
       "</table>\n",
       "</div>"
      ],
      "text/plain": [
       "          Disease                                        Description  \\\n",
       "0   Drug Reaction  An adverse drug reaction (ADR) is an injury ca...   \n",
       "1         Malaria  An infectious disease caused by protozoan para...   \n",
       "2         Allergy  An allergy is an immune system response to a f...   \n",
       "3  Hypothyroidism  Hypothyroidism, also called underactive thyroi...   \n",
       "4       Psoriasis  Psoriasis is a common skin disorder that forms...   \n",
       "\n",
       "                                          Precaution  \n",
       "0  stop irritation, consult nearest hospital, sto...  \n",
       "1  Consult nearest hospital, avoid oily food, avo...  \n",
       "2  apply calamine, cover area with bandage, , use...  \n",
       "3  reduce stress, exercise, eat healthy, get prop...  \n",
       "4  wash hands with warm soapy water, stop bleedin...  "
      ]
     },
     "execution_count": 11,
     "metadata": {},
     "output_type": "execute_result"
    }
   ],
   "source": [
    "df4=pd.concat([df2,df3],axis=1)\n",
    "df4.head()"
   ]
  },
  {
   "cell_type": "code",
   "execution_count": 12,
   "id": "administrative-concern",
   "metadata": {},
   "outputs": [
    {
     "data": {
      "text/plain": [
       "(41, 3)"
      ]
     },
     "execution_count": 12,
     "metadata": {},
     "output_type": "execute_result"
    }
   ],
   "source": [
    "df4.shape"
   ]
  },
  {
   "cell_type": "markdown",
   "id": "recent-consumer",
   "metadata": {},
   "source": [
    "## description and precaution "
   ]
  },
  {
   "cell_type": "code",
   "execution_count": 13,
   "id": "ceramic-belief",
   "metadata": {},
   "outputs": [
    {
     "name": "stdout",
     "output_type": "stream",
     "text": [
      "Acne vulgaris is the formation of comedones, papules, pustules, nodules, and/or cysts as a result of obstruction and inflammation of pilosebaceous units (hair follicles and their accompanying sebaceous gland). Acne develops on the face and upper trunk. It most often affects adolescents.\n"
     ]
    }
   ],
   "source": [
    "def extra_info(ans):\n",
    "    for items in df4[\"Disease\"]:\n",
    "        if items==ans:\n",
    "            x=df4[df4 == ans]\n",
    "            y=list(x.stack().index)\n",
    "            w = [item for t in y for item in t] \n",
    "            z=df4.loc[w[0]]\n",
    "            des=z[1]\n",
    "            prec=z[2]\n",
    "            \n",
    "            \n",
    "    return des,prec\n",
    "a,b=extra_info(\"Acne\")\n",
    "print(a)\n",
    "            \n",
    " "
   ]
  },
  {
   "cell_type": "code",
   "execution_count": 14,
   "id": "english-craps",
   "metadata": {},
   "outputs": [],
   "source": [
    "df1_fr=pd.DataFrame(df1)"
   ]
  },
  {
   "cell_type": "code",
   "execution_count": 15,
   "id": "unique-filling",
   "metadata": {},
   "outputs": [
    {
     "data": {
      "text/html": [
       "<div>\n",
       "<style scoped>\n",
       "    .dataframe tbody tr th:only-of-type {\n",
       "        vertical-align: middle;\n",
       "    }\n",
       "\n",
       "    .dataframe tbody tr th {\n",
       "        vertical-align: top;\n",
       "    }\n",
       "\n",
       "    .dataframe thead th {\n",
       "        text-align: right;\n",
       "    }\n",
       "</style>\n",
       "<table border=\"1\" class=\"dataframe\">\n",
       "  <thead>\n",
       "    <tr style=\"text-align: right;\">\n",
       "      <th></th>\n",
       "      <th>Symptom</th>\n",
       "      <th>weight</th>\n",
       "    </tr>\n",
       "  </thead>\n",
       "  <tbody>\n",
       "    <tr>\n",
       "      <th>0</th>\n",
       "      <td>itching</td>\n",
       "      <td>1</td>\n",
       "    </tr>\n",
       "    <tr>\n",
       "      <th>1</th>\n",
       "      <td>skin rash</td>\n",
       "      <td>3</td>\n",
       "    </tr>\n",
       "    <tr>\n",
       "      <th>2</th>\n",
       "      <td>nodal skin eruptions</td>\n",
       "      <td>4</td>\n",
       "    </tr>\n",
       "    <tr>\n",
       "      <th>3</th>\n",
       "      <td>continuous sneezing</td>\n",
       "      <td>4</td>\n",
       "    </tr>\n",
       "    <tr>\n",
       "      <th>4</th>\n",
       "      <td>shivering</td>\n",
       "      <td>5</td>\n",
       "    </tr>\n",
       "  </tbody>\n",
       "</table>\n",
       "</div>"
      ],
      "text/plain": [
       "                Symptom  weight\n",
       "0               itching       1\n",
       "1             skin rash       3\n",
       "2  nodal skin eruptions       4\n",
       "3   continuous sneezing       4\n",
       "4             shivering       5"
      ]
     },
     "execution_count": 15,
     "metadata": {},
     "output_type": "execute_result"
    }
   ],
   "source": [
    "df1.head()"
   ]
  },
  {
   "cell_type": "markdown",
   "id": "premier-fusion",
   "metadata": {},
   "source": [
    "## input and output conversion "
   ]
  },
  {
   "cell_type": "code",
   "execution_count": 16,
   "id": "experimental-peter",
   "metadata": {},
   "outputs": [
    {
     "data": {
      "text/plain": [
       "[1, 5, 2]"
      ]
     },
     "execution_count": 16,
     "metadata": {},
     "output_type": "execute_result"
    }
   ],
   "source": [
    "def inp_out(ans):\n",
    "    count= []\n",
    "    for symp in ans:\n",
    "        for items in df1[\"Symptom\"]:\n",
    "            if items==symp:\n",
    "                x=df1[df1 == symp]\n",
    "                y=list(x.stack().index)\n",
    "                w = [item for t in y for item in t]           \n",
    "                z=df1.iloc[w[0]][\"weight\"]\n",
    "                count.append(z)\n",
    "    return count\n",
    "f=['itching','family history','muscle pain']\n",
    "inp_out(f)"
   ]
  },
  {
   "cell_type": "code",
   "execution_count": 18,
   "id": "equal-tiffany",
   "metadata": {},
   "outputs": [
    {
     "data": {
      "text/html": [
       "<div>\n",
       "<style scoped>\n",
       "    .dataframe tbody tr th:only-of-type {\n",
       "        vertical-align: middle;\n",
       "    }\n",
       "\n",
       "    .dataframe tbody tr th {\n",
       "        vertical-align: top;\n",
       "    }\n",
       "\n",
       "    .dataframe thead th {\n",
       "        text-align: right;\n",
       "    }\n",
       "</style>\n",
       "<table border=\"1\" class=\"dataframe\">\n",
       "  <thead>\n",
       "    <tr style=\"text-align: right;\">\n",
       "      <th></th>\n",
       "      <th>Disease</th>\n",
       "      <th>Description</th>\n",
       "    </tr>\n",
       "  </thead>\n",
       "  <tbody>\n",
       "    <tr>\n",
       "      <th>0</th>\n",
       "      <td>Drug Reaction</td>\n",
       "      <td>An adverse drug reaction (ADR) is an injury ca...</td>\n",
       "    </tr>\n",
       "    <tr>\n",
       "      <th>1</th>\n",
       "      <td>Malaria</td>\n",
       "      <td>An infectious disease caused by protozoan para...</td>\n",
       "    </tr>\n",
       "    <tr>\n",
       "      <th>2</th>\n",
       "      <td>Allergy</td>\n",
       "      <td>An allergy is an immune system response to a f...</td>\n",
       "    </tr>\n",
       "    <tr>\n",
       "      <th>3</th>\n",
       "      <td>Hypothyroidism</td>\n",
       "      <td>Hypothyroidism, also called underactive thyroi...</td>\n",
       "    </tr>\n",
       "    <tr>\n",
       "      <th>4</th>\n",
       "      <td>Psoriasis</td>\n",
       "      <td>Psoriasis is a common skin disorder that forms...</td>\n",
       "    </tr>\n",
       "  </tbody>\n",
       "</table>\n",
       "</div>"
      ],
      "text/plain": [
       "          Disease                                        Description\n",
       "0   Drug Reaction  An adverse drug reaction (ADR) is an injury ca...\n",
       "1         Malaria  An infectious disease caused by protozoan para...\n",
       "2         Allergy  An allergy is an immune system response to a f...\n",
       "3  Hypothyroidism  Hypothyroidism, also called underactive thyroi...\n",
       "4       Psoriasis  Psoriasis is a common skin disorder that forms..."
      ]
     },
     "execution_count": 18,
     "metadata": {},
     "output_type": "execute_result"
    }
   ],
   "source": [
    "df5=df4.drop(\"Precaution\",axis=1)\n",
    "df6=df4.drop(\"Description\",axis=1)\n",
    "df5.head()\n"
   ]
  },
  {
   "cell_type": "code",
   "execution_count": 19,
   "id": "romantic-ordinary",
   "metadata": {},
   "outputs": [
    {
     "data": {
      "text/html": [
       "<div>\n",
       "<style scoped>\n",
       "    .dataframe tbody tr th:only-of-type {\n",
       "        vertical-align: middle;\n",
       "    }\n",
       "\n",
       "    .dataframe tbody tr th {\n",
       "        vertical-align: top;\n",
       "    }\n",
       "\n",
       "    .dataframe thead th {\n",
       "        text-align: right;\n",
       "    }\n",
       "</style>\n",
       "<table border=\"1\" class=\"dataframe\">\n",
       "  <thead>\n",
       "    <tr style=\"text-align: right;\">\n",
       "      <th></th>\n",
       "      <th>Disease</th>\n",
       "      <th>Precaution</th>\n",
       "    </tr>\n",
       "  </thead>\n",
       "  <tbody>\n",
       "    <tr>\n",
       "      <th>0</th>\n",
       "      <td>Drug Reaction</td>\n",
       "      <td>stop irritation, consult nearest hospital, sto...</td>\n",
       "    </tr>\n",
       "    <tr>\n",
       "      <th>1</th>\n",
       "      <td>Malaria</td>\n",
       "      <td>Consult nearest hospital, avoid oily food, avo...</td>\n",
       "    </tr>\n",
       "    <tr>\n",
       "      <th>2</th>\n",
       "      <td>Allergy</td>\n",
       "      <td>apply calamine, cover area with bandage, , use...</td>\n",
       "    </tr>\n",
       "    <tr>\n",
       "      <th>3</th>\n",
       "      <td>Hypothyroidism</td>\n",
       "      <td>reduce stress, exercise, eat healthy, get prop...</td>\n",
       "    </tr>\n",
       "    <tr>\n",
       "      <th>4</th>\n",
       "      <td>Psoriasis</td>\n",
       "      <td>wash hands with warm soapy water, stop bleedin...</td>\n",
       "    </tr>\n",
       "  </tbody>\n",
       "</table>\n",
       "</div>"
      ],
      "text/plain": [
       "          Disease                                         Precaution\n",
       "0   Drug Reaction  stop irritation, consult nearest hospital, sto...\n",
       "1         Malaria  Consult nearest hospital, avoid oily food, avo...\n",
       "2         Allergy  apply calamine, cover area with bandage, , use...\n",
       "3  Hypothyroidism  reduce stress, exercise, eat healthy, get prop...\n",
       "4       Psoriasis  wash hands with warm soapy water, stop bleedin..."
      ]
     },
     "execution_count": 19,
     "metadata": {},
     "output_type": "execute_result"
    }
   ],
   "source": [
    "df6.head()"
   ]
  },
  {
   "cell_type": "code",
   "execution_count": 20,
   "id": "metric-stack",
   "metadata": {},
   "outputs": [
    {
     "data": {
      "text/plain": [
       "{'Disease': {0: 'Drug Reaction',\n",
       "  1: 'Malaria',\n",
       "  2: 'Allergy',\n",
       "  3: 'Hypothyroidism',\n",
       "  4: 'Psoriasis',\n",
       "  5: 'GERD',\n",
       "  6: 'Chronic cholestasis',\n",
       "  7: 'hepatitis A',\n",
       "  8: 'Osteoarthristis',\n",
       "  9: '(vertigo) Paroymsal  Positional Vertigo',\n",
       "  10: 'Hypoglycemia',\n",
       "  11: 'Acne',\n",
       "  12: 'Diabetes',\n",
       "  13: 'Impetigo',\n",
       "  14: 'Hypertension',\n",
       "  15: 'Peptic ulcer diseae',\n",
       "  16: 'Dimorphic hemorrhoids(piles)',\n",
       "  17: 'Common Cold',\n",
       "  18: 'Chicken pox',\n",
       "  19: 'Cervical spondylosis',\n",
       "  20: 'Hyperthyroidism',\n",
       "  21: 'Urinary tract infection',\n",
       "  22: 'Varicose veins',\n",
       "  23: 'AIDS',\n",
       "  24: 'Paralysis (brain hemorrhage)',\n",
       "  25: 'Typhoid',\n",
       "  26: 'Hepatitis B',\n",
       "  27: 'Fungal infection',\n",
       "  28: 'Hepatitis C',\n",
       "  29: 'Migraine',\n",
       "  30: 'Bronchial Asthma',\n",
       "  31: 'Alcoholic hepatitis',\n",
       "  32: 'Jaundice',\n",
       "  33: 'Hepatitis E',\n",
       "  34: 'Dengue',\n",
       "  35: 'Hepatitis D',\n",
       "  36: 'Heart attack',\n",
       "  37: 'Pneumonia',\n",
       "  38: 'Arthritis',\n",
       "  39: 'Gastroenteritis',\n",
       "  40: 'Tuberculosis'},\n",
       " 'Description': {0: 'An adverse drug reaction (ADR) is an injury caused by taking medication. ADRs may occur following a single dose or prolonged administration of a drug or result from the combination of two or more drugs.',\n",
       "  1: 'An infectious disease caused by protozoan parasites from the Plasmodium family that can be transmitted by the bite of the Anopheles mosquito or by a contaminated needle or transfusion. Falciparum malaria is the most deadly type.',\n",
       "  2: \"An allergy is an immune system response to a foreign substance that's not typically harmful to your body.They can include certain foods, pollen, or pet dander. Your immune system's job is to keep you healthy by fighting harmful pathogens.\",\n",
       "  3: 'Hypothyroidism, also called underactive thyroid or low thyroid, is a disorder of the endocrine system in which the thyroid gland does not produce enough thyroid hormone.',\n",
       "  4: \"Psoriasis is a common skin disorder that forms thick, red, bumpy patches covered with silvery scales. They can pop up anywhere, but most appear on the scalp, elbows, knees, and lower back. Psoriasis can't be passed from person to person. It does sometimes happen in members of the same family.\",\n",
       "  5: 'Gastroesophageal reflux disease, or GERD, is a digestive disorder that affects the lower esophageal sphincter (LES), the ring of muscle between the esophagus and stomach. Many people, including pregnant women, suffer from heartburn or acid indigestion caused by GERD.',\n",
       "  6: 'Chronic cholestatic diseases, whether occurring in infancy, childhood or adulthood, are characterized by defective bile acid transport from the liver to the intestine, which is caused by primary damage to the biliary epithelium in most cases',\n",
       "  7: \"Hepatitis A is a highly contagious liver infection caused by the hepatitis A virus. The virus is one of several types of hepatitis viruses that cause inflammation and affect your liver's ability to function.\",\n",
       "  8: 'Osteoarthritis is the most common form of arthritis, affecting millions of people worldwide. It occurs when the protective cartilage that cushions the ends of your bones wears down over time.',\n",
       "  9: \"Benign paroxysmal positional vertigo (BPPV) is one of the most common causes of vertigo — the sudden sensation that you're spinning or that the inside of your head is spinning. Benign paroxysmal positional vertigo causes brief episodes of mild to intense dizziness.\",\n",
       "  10: \" Hypoglycemia is a condition in which your blood sugar (glucose) level is lower than normal. Glucose is your body's main energy source. Hypoglycemia is often related to diabetes treatment. But other drugs and a variety of conditions — many rare — can cause low blood sugar in people who don't have diabetes.\",\n",
       "  11: 'Acne vulgaris is the formation of comedones, papules, pustules, nodules, and/or cysts as a result of obstruction and inflammation of pilosebaceous units (hair follicles and their accompanying sebaceous gland). Acne develops on the face and upper trunk. It most often affects adolescents.',\n",
       "  12: 'Diabetes is a disease that occurs when your blood glucose, also called blood sugar, is too high. Blood glucose is your main source of energy and comes from the food you eat. Insulin, a hormone made by the pancreas, helps glucose from food get into your cells to be used for energy.',\n",
       "  13: \"Impetigo (im-puh-TIE-go) is a common and highly contagious skin infection that mainly affects infants and children. Impetigo usually appears as red sores on the face, especially around a child's nose and mouth, and on hands and feet. The sores burst and develop honey-colored crusts.\",\n",
       "  14: 'Hypertension (HTN or HT), also known as high blood pressure (HBP), is a long-term medical condition in which the blood pressure in the arteries is persistently elevated. High blood pressure typically does not cause symptoms.',\n",
       "  15: 'Peptic ulcer disease (PUD) is a break in the inner lining of the stomach, the first part of the small intestine, or sometimes the lower esophagus. An ulcer in the stomach is called a gastric ulcer, while one in the first part of the intestines is a duodenal ulcer.',\n",
       "  16: 'Hemorrhoids, also spelled haemorrhoids, are vascular structures in the anal canal. In their ... Other names, Haemorrhoids, piles, hemorrhoidal disease .',\n",
       "  17: \"The common cold is a viral infection of your nose and throat (upper respiratory tract). It's usually harmless, although it might not feel that way. Many types of viruses can cause a common cold.\",\n",
       "  18: 'Chickenpox is a highly contagious disease caused by the varicella-zoster virus (VZV). It can cause an itchy, blister-like rash. The rash first appears on the chest, back, and face, and then spreads over the entire body, causing between 250 and 500 itchy blisters.',\n",
       "  19: 'Cervical spondylosis is a general term for age-related wear and tear affecting the spinal disks in your neck. As the disks dehydrate and shrink, signs of osteoarthritis develop, including bony projections along the edges of bones (bone spurs).',\n",
       "  20: \"Hyperthyroidism (overactive thyroid) occurs when your thyroid gland produces too much of the hormone thyroxine. Hyperthyroidism can accelerate your body's metabolism, causing unintentional weight loss and a rapid or irregular heartbeat.\",\n",
       "  21: 'Urinary tract infection: An infection of the kidney, ureter, bladder, or urethra. Abbreviated UTI. Not everyone with a UTI has symptoms, but common symptoms include a frequent urge to urinate and pain or burning when urinating.',\n",
       "  22: 'A vein that has enlarged and twisted, often appearing as a bulging, blue blood vessel that is clearly visible through the skin. Varicose veins are most common in older adults, particularly women, and occur especially on the legs.',\n",
       "  23: \"Acquired immunodeficiency syndrome (AIDS) is a chronic, potentially life-threatening condition caused by the human immunodeficiency virus (HIV). By damaging your immune system, HIV interferes with your body's ability to fight infection and disease.\",\n",
       "  24: 'Intracerebral hemorrhage (ICH) is when blood suddenly bursts into brain tissue, causing damage to your brain. Symptoms usually appear suddenly during ICH. They include headache, weakness, confusion, and paralysis, particularly on one side of your body.',\n",
       "  25: 'An acute illness characterized by fever caused by infection with the bacterium Salmonella typhi. Typhoid fever has an insidious onset, with fever, headache, constipation, malaise, chills, and muscle pain. Diarrhea is uncommon, and vomiting is not usually severe.',\n",
       "  26: \"Hepatitis B is an infection of your liver. It can cause scarring of the organ, liver failure, and cancer. It can be fatal if it isn't treated. It's spread when people come in contact with the blood, open sores, or body fluids of someone who has the hepatitis B virus.\",\n",
       "  27: 'In humans, fungal infections occur when an invading fungus takes over an area of the body and is too much for the immune system to handle. Fungi can live in the air, soil, water, and plants. There are also some fungi that live naturally in the human body. Like many microbes, there are helpful fungi and harmful fungi.',\n",
       "  28: 'Inflammation of the liver due to the hepatitis C virus (HCV), which is usually spread via blood transfusion (rare), hemodialysis, and needle sticks. The damage hepatitis C does to the liver can lead to cirrhosis and its complications as well as cancer.',\n",
       "  29: \"A migraine can cause severe throbbing pain or a pulsing sensation, usually on one side of the head. It's often accompanied by nausea, vomiting, and extreme sensitivity to light and sound. Migraine attacks can last for hours to days, and the pain can be so severe that it interferes with your daily activities.\",\n",
       "  30: 'Bronchial asthma is a medical condition which causes the airway path of the lungs to swell and narrow. Due to this swelling, the air path produces excess mucus making it hard to breathe, which results in coughing, short breath, and wheezing. The disease is chronic and interferes with daily working.',\n",
       "  31: \"Alcoholic hepatitis is a diseased, inflammatory condition of the liver caused by heavy alcohol consumption over an extended period of time. It's also aggravated by binge drinking and ongoing alcohol use. If you develop this condition, you must stop drinking alcohol\",\n",
       "  32: 'Yellow staining of the skin and sclerae (the whites of the eyes) by abnormally high blood levels of the bile pigment bilirubin. The yellowing extends to other tissues and body fluids. Jaundice was once called the \"morbus regius\" (the regal disease) in the belief that only the touch of a king could cure it',\n",
       "  33: 'A rare form of liver inflammation caused by infection with the hepatitis E virus (HEV). It is transmitted via food or drink handled by an infected person or through infected water supplies in areas where fecal matter may get into the water. Hepatitis E does not cause chronic liver disease.',\n",
       "  34: 'an acute infectious disease caused by a flavivirus (species Dengue virus of the genus Flavivirus), transmitted by aedes mosquitoes, and characterized by headache, severe joint pain, and a rash. — called also breakbone fever, dengue fever.',\n",
       "  35: 'Hepatitis D, also known as the hepatitis delta virus, is an infection that causes the liver to become inflamed. This swelling can impair liver function and cause long-term liver problems, including liver scarring and cancer. The condition is caused by the hepatitis D virus (HDV).',\n",
       "  36: 'The death of heart muscle due to the loss of blood supply. The loss of blood supply is usually caused by a complete blockage of a coronary artery, one of the arteries that supplies blood to the heart muscle.',\n",
       "  37: 'Pneumonia is an infection in one or both lungs. Bacteria, viruses, and fungi cause it. The infection causes inflammation in the air sacs in your lungs, which are called alveoli. The alveoli fill with fluid or pus, making it difficult to breathe.',\n",
       "  38: 'Arthritis is the swelling and tenderness of one or more of your joints. The main symptoms of arthritis are joint pain and stiffness, which typically worsen with age. The most common types of arthritis are osteoarthritis and rheumatoid arthritis.',\n",
       "  39: 'Gastroenteritis is an inflammation of the digestive tract, particularly the stomach, and large and small intestines. Viral and bacterial gastroenteritis are intestinal infections associated with symptoms of diarrhea , abdominal cramps, nausea , and vomiting .',\n",
       "  40: 'Tuberculosis (TB) is an infectious disease usually caused by Mycobacterium tuberculosis (MTB) bacteria. Tuberculosis generally affects the lungs, but can also affect other parts of the body. Most infections show no symptoms, in which case it is known as latent tuberculosis.'}}"
      ]
     },
     "execution_count": 20,
     "metadata": {},
     "output_type": "execute_result"
    }
   ],
   "source": [
    "# converting to dict\n",
    "data_desc = df5.to_dict()\n",
    "data_prec = df6.to_dict()\n",
    "  \n",
    "# display\n",
    "data_desc"
   ]
  },
  {
   "cell_type": "code",
   "execution_count": 21,
   "id": "attempted-suggestion",
   "metadata": {},
   "outputs": [
    {
     "data": {
      "text/plain": [
       "{'Disease': {0: 'Drug Reaction',\n",
       "  1: 'Malaria',\n",
       "  2: 'Allergy',\n",
       "  3: 'Hypothyroidism',\n",
       "  4: 'Psoriasis',\n",
       "  5: 'GERD',\n",
       "  6: 'Chronic cholestasis',\n",
       "  7: 'hepatitis A',\n",
       "  8: 'Osteoarthristis',\n",
       "  9: '(vertigo) Paroymsal  Positional Vertigo',\n",
       "  10: 'Hypoglycemia',\n",
       "  11: 'Acne',\n",
       "  12: 'Diabetes',\n",
       "  13: 'Impetigo',\n",
       "  14: 'Hypertension',\n",
       "  15: 'Peptic ulcer diseae',\n",
       "  16: 'Dimorphic hemorrhoids(piles)',\n",
       "  17: 'Common Cold',\n",
       "  18: 'Chicken pox',\n",
       "  19: 'Cervical spondylosis',\n",
       "  20: 'Hyperthyroidism',\n",
       "  21: 'Urinary tract infection',\n",
       "  22: 'Varicose veins',\n",
       "  23: 'AIDS',\n",
       "  24: 'Paralysis (brain hemorrhage)',\n",
       "  25: 'Typhoid',\n",
       "  26: 'Hepatitis B',\n",
       "  27: 'Fungal infection',\n",
       "  28: 'Hepatitis C',\n",
       "  29: 'Migraine',\n",
       "  30: 'Bronchial Asthma',\n",
       "  31: 'Alcoholic hepatitis',\n",
       "  32: 'Jaundice',\n",
       "  33: 'Hepatitis E',\n",
       "  34: 'Dengue',\n",
       "  35: 'Hepatitis D',\n",
       "  36: 'Heart attack',\n",
       "  37: 'Pneumonia',\n",
       "  38: 'Arthritis',\n",
       "  39: 'Gastroenteritis',\n",
       "  40: 'Tuberculosis'},\n",
       " 'Precaution': {0: 'stop irritation, consult nearest hospital, stop taking drug, follow up',\n",
       "  1: 'Consult nearest hospital, avoid oily food, avoid non veg food, keep mosquitos out',\n",
       "  2: 'apply calamine, cover area with bandage, , use ice to compress itching',\n",
       "  3: 'reduce stress, exercise, eat healthy, get proper sleep',\n",
       "  4: 'wash hands with warm soapy water, stop bleeding using pressure, consult doctor, salt baths',\n",
       "  5: 'avoid fatty spicy food, avoid lying down after eating, maintain healthy weight, exercise',\n",
       "  6: 'cold baths, anti itch medicine, consult doctor, eat healthy',\n",
       "  7: 'Consult nearest hospital, wash hands through, avoid fatty spicy food, medication',\n",
       "  8: 'acetaminophen, consult nearest hospital, follow up, salt baths',\n",
       "  9: 'lie down, avoid sudden change in body, avoid abrupt head movment, relax',\n",
       "  10: 'lie down on side, check in pulse, drink sugary drinks, consult doctor',\n",
       "  11: 'bath twice, avoid fatty spicy food, drink plenty of water, avoid too many products',\n",
       "  12: 'have balanced diet, exercise, consult doctor, follow up',\n",
       "  13: 'soak affected area in warm water, use antibiotics, remove scabs with wet compressed cloth, consult doctor',\n",
       "  14: 'meditation, salt baths, reduce stress, get proper sleep',\n",
       "  15: 'avoid fatty spicy food, consume probiotic food, eliminate milk, limit alcohol',\n",
       "  16: 'avoid fatty spicy food, consume witch hazel, warm bath with epsom salt, consume alovera juice',\n",
       "  17: 'drink vitamin c rich drinks, take vapour, avoid cold food, keep fever in check',\n",
       "  18: 'use neem in bathing , consume neem leaves, take vaccine, avoid public places',\n",
       "  19: 'use heating pad or cold pack, exercise, take otc pain reliver, consult doctor',\n",
       "  20: 'eat healthy, massage, use lemon balm, take radioactive iodine treatment',\n",
       "  21: 'drink plenty of water, increase vitamin c intake, drink cranberry juice, take probiotics',\n",
       "  22: 'lie down flat and raise the leg high, use oinments, use vein compression, dont stand still for long',\n",
       "  23: 'avoid open cuts, wear ppe if possible, consult doctor, follow up',\n",
       "  24: 'massage, eat healthy, exercise, consult doctor',\n",
       "  25: 'eat high calorie vegitables, antiboitic therapy, consult doctor, medication',\n",
       "  26: 'consult nearest hospital, vaccination, eat healthy, medication',\n",
       "  27: 'bath twice, use detol or neem in bathing water, keep infected area dry, use clean cloths',\n",
       "  28: 'Consult nearest hospital, vaccination, eat healthy, medication',\n",
       "  29: 'meditation, reduce stress, use poloroid glasses in sun, consult doctor',\n",
       "  30: 'switch to loose cloothing, take deep breaths, get away from trigger, seek help',\n",
       "  31: 'stop alcohol consumption, consult doctor, medication, follow up',\n",
       "  32: 'drink plenty of water, consume milk thistle, eat fruits and high fiberous food, medication',\n",
       "  33: 'stop alcohol consumption, rest, consult doctor, medication',\n",
       "  34: 'drink papaya leaf juice, avoid fatty spicy food, keep mosquitos away, keep hydrated',\n",
       "  35: 'consult doctor, medication, eat healthy, follow up',\n",
       "  36: 'call ambulance, chew or swallow asprin, keep calm, ',\n",
       "  37: 'consult doctor, medication, rest, follow up',\n",
       "  38: 'exercise, use hot and cold therapy, try acupuncture, massage',\n",
       "  39: 'stop eating solid food for while, try taking small sips of water, rest, ease back into eating',\n",
       "  40: 'cover mouth, consult doctor, medication, rest'}}"
      ]
     },
     "execution_count": 21,
     "metadata": {},
     "output_type": "execute_result"
    }
   ],
   "source": [
    "data_prec"
   ]
  },
  {
   "cell_type": "code",
   "execution_count": 22,
   "id": "northern-sculpture",
   "metadata": {},
   "outputs": [
    {
     "data": {
      "text/plain": [
       "dict_items([(0, 'Drug Reaction'), (1, 'Malaria'), (2, 'Allergy'), (3, 'Hypothyroidism'), (4, 'Psoriasis'), (5, 'GERD'), (6, 'Chronic cholestasis'), (7, 'hepatitis A'), (8, 'Osteoarthristis'), (9, '(vertigo) Paroymsal  Positional Vertigo'), (10, 'Hypoglycemia'), (11, 'Acne'), (12, 'Diabetes'), (13, 'Impetigo'), (14, 'Hypertension'), (15, 'Peptic ulcer diseae'), (16, 'Dimorphic hemorrhoids(piles)'), (17, 'Common Cold'), (18, 'Chicken pox'), (19, 'Cervical spondylosis'), (20, 'Hyperthyroidism'), (21, 'Urinary tract infection'), (22, 'Varicose veins'), (23, 'AIDS'), (24, 'Paralysis (brain hemorrhage)'), (25, 'Typhoid'), (26, 'Hepatitis B'), (27, 'Fungal infection'), (28, 'Hepatitis C'), (29, 'Migraine'), (30, 'Bronchial Asthma'), (31, 'Alcoholic hepatitis'), (32, 'Jaundice'), (33, 'Hepatitis E'), (34, 'Dengue'), (35, 'Hepatitis D'), (36, 'Heart attack'), (37, 'Pneumonia'), (38, 'Arthritis'), (39, 'Gastroenteritis'), (40, 'Tuberculosis')])"
      ]
     },
     "execution_count": 22,
     "metadata": {},
     "output_type": "execute_result"
    }
   ],
   "source": [
    "data_desc[\"Disease\"].items()"
   ]
  },
  {
   "cell_type": "code",
   "execution_count": 23,
   "id": "competent-surveillance",
   "metadata": {},
   "outputs": [
    {
     "data": {
      "text/plain": [
       "dict_items([(0, 'An adverse drug reaction (ADR) is an injury caused by taking medication. ADRs may occur following a single dose or prolonged administration of a drug or result from the combination of two or more drugs.'), (1, 'An infectious disease caused by protozoan parasites from the Plasmodium family that can be transmitted by the bite of the Anopheles mosquito or by a contaminated needle or transfusion. Falciparum malaria is the most deadly type.'), (2, \"An allergy is an immune system response to a foreign substance that's not typically harmful to your body.They can include certain foods, pollen, or pet dander. Your immune system's job is to keep you healthy by fighting harmful pathogens.\"), (3, 'Hypothyroidism, also called underactive thyroid or low thyroid, is a disorder of the endocrine system in which the thyroid gland does not produce enough thyroid hormone.'), (4, \"Psoriasis is a common skin disorder that forms thick, red, bumpy patches covered with silvery scales. They can pop up anywhere, but most appear on the scalp, elbows, knees, and lower back. Psoriasis can't be passed from person to person. It does sometimes happen in members of the same family.\"), (5, 'Gastroesophageal reflux disease, or GERD, is a digestive disorder that affects the lower esophageal sphincter (LES), the ring of muscle between the esophagus and stomach. Many people, including pregnant women, suffer from heartburn or acid indigestion caused by GERD.'), (6, 'Chronic cholestatic diseases, whether occurring in infancy, childhood or adulthood, are characterized by defective bile acid transport from the liver to the intestine, which is caused by primary damage to the biliary epithelium in most cases'), (7, \"Hepatitis A is a highly contagious liver infection caused by the hepatitis A virus. The virus is one of several types of hepatitis viruses that cause inflammation and affect your liver's ability to function.\"), (8, 'Osteoarthritis is the most common form of arthritis, affecting millions of people worldwide. It occurs when the protective cartilage that cushions the ends of your bones wears down over time.'), (9, \"Benign paroxysmal positional vertigo (BPPV) is one of the most common causes of vertigo — the sudden sensation that you're spinning or that the inside of your head is spinning. Benign paroxysmal positional vertigo causes brief episodes of mild to intense dizziness.\"), (10, \" Hypoglycemia is a condition in which your blood sugar (glucose) level is lower than normal. Glucose is your body's main energy source. Hypoglycemia is often related to diabetes treatment. But other drugs and a variety of conditions — many rare — can cause low blood sugar in people who don't have diabetes.\"), (11, 'Acne vulgaris is the formation of comedones, papules, pustules, nodules, and/or cysts as a result of obstruction and inflammation of pilosebaceous units (hair follicles and their accompanying sebaceous gland). Acne develops on the face and upper trunk. It most often affects adolescents.'), (12, 'Diabetes is a disease that occurs when your blood glucose, also called blood sugar, is too high. Blood glucose is your main source of energy and comes from the food you eat. Insulin, a hormone made by the pancreas, helps glucose from food get into your cells to be used for energy.'), (13, \"Impetigo (im-puh-TIE-go) is a common and highly contagious skin infection that mainly affects infants and children. Impetigo usually appears as red sores on the face, especially around a child's nose and mouth, and on hands and feet. The sores burst and develop honey-colored crusts.\"), (14, 'Hypertension (HTN or HT), also known as high blood pressure (HBP), is a long-term medical condition in which the blood pressure in the arteries is persistently elevated. High blood pressure typically does not cause symptoms.'), (15, 'Peptic ulcer disease (PUD) is a break in the inner lining of the stomach, the first part of the small intestine, or sometimes the lower esophagus. An ulcer in the stomach is called a gastric ulcer, while one in the first part of the intestines is a duodenal ulcer.'), (16, 'Hemorrhoids, also spelled haemorrhoids, are vascular structures in the anal canal. In their ... Other names, Haemorrhoids, piles, hemorrhoidal disease .'), (17, \"The common cold is a viral infection of your nose and throat (upper respiratory tract). It's usually harmless, although it might not feel that way. Many types of viruses can cause a common cold.\"), (18, 'Chickenpox is a highly contagious disease caused by the varicella-zoster virus (VZV). It can cause an itchy, blister-like rash. The rash first appears on the chest, back, and face, and then spreads over the entire body, causing between 250 and 500 itchy blisters.'), (19, 'Cervical spondylosis is a general term for age-related wear and tear affecting the spinal disks in your neck. As the disks dehydrate and shrink, signs of osteoarthritis develop, including bony projections along the edges of bones (bone spurs).'), (20, \"Hyperthyroidism (overactive thyroid) occurs when your thyroid gland produces too much of the hormone thyroxine. Hyperthyroidism can accelerate your body's metabolism, causing unintentional weight loss and a rapid or irregular heartbeat.\"), (21, 'Urinary tract infection: An infection of the kidney, ureter, bladder, or urethra. Abbreviated UTI. Not everyone with a UTI has symptoms, but common symptoms include a frequent urge to urinate and pain or burning when urinating.'), (22, 'A vein that has enlarged and twisted, often appearing as a bulging, blue blood vessel that is clearly visible through the skin. Varicose veins are most common in older adults, particularly women, and occur especially on the legs.'), (23, \"Acquired immunodeficiency syndrome (AIDS) is a chronic, potentially life-threatening condition caused by the human immunodeficiency virus (HIV). By damaging your immune system, HIV interferes with your body's ability to fight infection and disease.\"), (24, 'Intracerebral hemorrhage (ICH) is when blood suddenly bursts into brain tissue, causing damage to your brain. Symptoms usually appear suddenly during ICH. They include headache, weakness, confusion, and paralysis, particularly on one side of your body.'), (25, 'An acute illness characterized by fever caused by infection with the bacterium Salmonella typhi. Typhoid fever has an insidious onset, with fever, headache, constipation, malaise, chills, and muscle pain. Diarrhea is uncommon, and vomiting is not usually severe.'), (26, \"Hepatitis B is an infection of your liver. It can cause scarring of the organ, liver failure, and cancer. It can be fatal if it isn't treated. It's spread when people come in contact with the blood, open sores, or body fluids of someone who has the hepatitis B virus.\"), (27, 'In humans, fungal infections occur when an invading fungus takes over an area of the body and is too much for the immune system to handle. Fungi can live in the air, soil, water, and plants. There are also some fungi that live naturally in the human body. Like many microbes, there are helpful fungi and harmful fungi.'), (28, 'Inflammation of the liver due to the hepatitis C virus (HCV), which is usually spread via blood transfusion (rare), hemodialysis, and needle sticks. The damage hepatitis C does to the liver can lead to cirrhosis and its complications as well as cancer.'), (29, \"A migraine can cause severe throbbing pain or a pulsing sensation, usually on one side of the head. It's often accompanied by nausea, vomiting, and extreme sensitivity to light and sound. Migraine attacks can last for hours to days, and the pain can be so severe that it interferes with your daily activities.\"), (30, 'Bronchial asthma is a medical condition which causes the airway path of the lungs to swell and narrow. Due to this swelling, the air path produces excess mucus making it hard to breathe, which results in coughing, short breath, and wheezing. The disease is chronic and interferes with daily working.'), (31, \"Alcoholic hepatitis is a diseased, inflammatory condition of the liver caused by heavy alcohol consumption over an extended period of time. It's also aggravated by binge drinking and ongoing alcohol use. If you develop this condition, you must stop drinking alcohol\"), (32, 'Yellow staining of the skin and sclerae (the whites of the eyes) by abnormally high blood levels of the bile pigment bilirubin. The yellowing extends to other tissues and body fluids. Jaundice was once called the \"morbus regius\" (the regal disease) in the belief that only the touch of a king could cure it'), (33, 'A rare form of liver inflammation caused by infection with the hepatitis E virus (HEV). It is transmitted via food or drink handled by an infected person or through infected water supplies in areas where fecal matter may get into the water. Hepatitis E does not cause chronic liver disease.'), (34, 'an acute infectious disease caused by a flavivirus (species Dengue virus of the genus Flavivirus), transmitted by aedes mosquitoes, and characterized by headache, severe joint pain, and a rash. — called also breakbone fever, dengue fever.'), (35, 'Hepatitis D, also known as the hepatitis delta virus, is an infection that causes the liver to become inflamed. This swelling can impair liver function and cause long-term liver problems, including liver scarring and cancer. The condition is caused by the hepatitis D virus (HDV).'), (36, 'The death of heart muscle due to the loss of blood supply. The loss of blood supply is usually caused by a complete blockage of a coronary artery, one of the arteries that supplies blood to the heart muscle.'), (37, 'Pneumonia is an infection in one or both lungs. Bacteria, viruses, and fungi cause it. The infection causes inflammation in the air sacs in your lungs, which are called alveoli. The alveoli fill with fluid or pus, making it difficult to breathe.'), (38, 'Arthritis is the swelling and tenderness of one or more of your joints. The main symptoms of arthritis are joint pain and stiffness, which typically worsen with age. The most common types of arthritis are osteoarthritis and rheumatoid arthritis.'), (39, 'Gastroenteritis is an inflammation of the digestive tract, particularly the stomach, and large and small intestines. Viral and bacterial gastroenteritis are intestinal infections associated with symptoms of diarrhea , abdominal cramps, nausea , and vomiting .'), (40, 'Tuberculosis (TB) is an infectious disease usually caused by Mycobacterium tuberculosis (MTB) bacteria. Tuberculosis generally affects the lungs, but can also affect other parts of the body. Most infections show no symptoms, in which case it is known as latent tuberculosis.')])"
      ]
     },
     "execution_count": 23,
     "metadata": {},
     "output_type": "execute_result"
    }
   ],
   "source": [
    "data_desc[\"Description\"].items()"
   ]
  },
  {
   "cell_type": "code",
   "execution_count": 24,
   "id": "intellectual-reduction",
   "metadata": {},
   "outputs": [
    {
     "data": {
      "text/plain": [
       "dict_items([(0, 'stop irritation, consult nearest hospital, stop taking drug, follow up'), (1, 'Consult nearest hospital, avoid oily food, avoid non veg food, keep mosquitos out'), (2, 'apply calamine, cover area with bandage, , use ice to compress itching'), (3, 'reduce stress, exercise, eat healthy, get proper sleep'), (4, 'wash hands with warm soapy water, stop bleeding using pressure, consult doctor, salt baths'), (5, 'avoid fatty spicy food, avoid lying down after eating, maintain healthy weight, exercise'), (6, 'cold baths, anti itch medicine, consult doctor, eat healthy'), (7, 'Consult nearest hospital, wash hands through, avoid fatty spicy food, medication'), (8, 'acetaminophen, consult nearest hospital, follow up, salt baths'), (9, 'lie down, avoid sudden change in body, avoid abrupt head movment, relax'), (10, 'lie down on side, check in pulse, drink sugary drinks, consult doctor'), (11, 'bath twice, avoid fatty spicy food, drink plenty of water, avoid too many products'), (12, 'have balanced diet, exercise, consult doctor, follow up'), (13, 'soak affected area in warm water, use antibiotics, remove scabs with wet compressed cloth, consult doctor'), (14, 'meditation, salt baths, reduce stress, get proper sleep'), (15, 'avoid fatty spicy food, consume probiotic food, eliminate milk, limit alcohol'), (16, 'avoid fatty spicy food, consume witch hazel, warm bath with epsom salt, consume alovera juice'), (17, 'drink vitamin c rich drinks, take vapour, avoid cold food, keep fever in check'), (18, 'use neem in bathing , consume neem leaves, take vaccine, avoid public places'), (19, 'use heating pad or cold pack, exercise, take otc pain reliver, consult doctor'), (20, 'eat healthy, massage, use lemon balm, take radioactive iodine treatment'), (21, 'drink plenty of water, increase vitamin c intake, drink cranberry juice, take probiotics'), (22, 'lie down flat and raise the leg high, use oinments, use vein compression, dont stand still for long'), (23, 'avoid open cuts, wear ppe if possible, consult doctor, follow up'), (24, 'massage, eat healthy, exercise, consult doctor'), (25, 'eat high calorie vegitables, antiboitic therapy, consult doctor, medication'), (26, 'consult nearest hospital, vaccination, eat healthy, medication'), (27, 'bath twice, use detol or neem in bathing water, keep infected area dry, use clean cloths'), (28, 'Consult nearest hospital, vaccination, eat healthy, medication'), (29, 'meditation, reduce stress, use poloroid glasses in sun, consult doctor'), (30, 'switch to loose cloothing, take deep breaths, get away from trigger, seek help'), (31, 'stop alcohol consumption, consult doctor, medication, follow up'), (32, 'drink plenty of water, consume milk thistle, eat fruits and high fiberous food, medication'), (33, 'stop alcohol consumption, rest, consult doctor, medication'), (34, 'drink papaya leaf juice, avoid fatty spicy food, keep mosquitos away, keep hydrated'), (35, 'consult doctor, medication, eat healthy, follow up'), (36, 'call ambulance, chew or swallow asprin, keep calm, '), (37, 'consult doctor, medication, rest, follow up'), (38, 'exercise, use hot and cold therapy, try acupuncture, massage'), (39, 'stop eating solid food for while, try taking small sips of water, rest, ease back into eating'), (40, 'cover mouth, consult doctor, medication, rest')])"
      ]
     },
     "execution_count": 24,
     "metadata": {},
     "output_type": "execute_result"
    }
   ],
   "source": [
    "data_prec[\"Precaution\"].items()"
   ]
  },
  {
   "cell_type": "code",
   "execution_count": null,
   "id": "consolidated-decrease",
   "metadata": {},
   "outputs": [],
   "source": [
    "x=[(0, 'Drug Reaction'), (1, 'Malaria'), (2, 'Allergy'), (3, 'Hypothyroidism'), (4, 'Psoriasis'), (5, 'GERD'), (6, 'Chronic cholestasis'), (7, 'hepatitis A'), (8, 'Osteoarthristis'), (9, '(vertigo) Paroymsal  Positional Vertigo'), (10, 'Hypoglycemia'), (11, 'Acne'), (12, 'Diabetes'), (13, 'Impetigo'), (14, 'Hypertension'), (15, 'Peptic ulcer diseae'), (16, 'Dimorphic hemorrhoids(piles)'), (17, 'Common Cold'), (18, 'Chicken pox'), (19, 'Cervical spondylosis'), (20, 'Hyperthyroidism'), (21, 'Urinary tract infection'), (22, 'Varicose veins'), (23, 'AIDS'), (24, 'Paralysis (brain hemorrhage)'), (25, 'Typhoid'), (26, 'Hepatitis B'), (27, 'Fungal infection'), (28, 'Hepatitis C'), (29, 'Migraine'), (30, 'Bronchial Asthma'), (31, 'Alcoholic hepatitis'), (32, 'Jaundice'), (33, 'Hepatitis E'), (34, 'Dengue'), (35, 'Hepatitis D'), (36, 'Heart attack'), (37, 'Pneumonia'), (38, 'Arthritis'), (39, 'Gastroenteritis'), (40, 'Tuberculosis')]"
   ]
  },
  {
   "cell_type": "code",
   "execution_count": null,
   "id": "frequent-mauritius",
   "metadata": {},
   "outputs": [],
   "source": [
    "y=[(0, 'An adverse drug reaction (ADR) is an injury caused by taking medication. ADRs may occur following a single dose or prolonged administration of a drug or result from the combination of two or more drugs.'), (1, 'An infectious disease caused by protozoan parasites from the Plasmodium family that can be transmitted by the bite of the Anopheles mosquito or by a contaminated needle or transfusion. Falciparum malaria is the most deadly type.'), (2, \"An allergy is an immune system response to a foreign substance that's not typically harmful to your body.They can include certain foods, pollen, or pet dander. Your immune system's job is to keep you healthy by fighting harmful pathogens.\"), (3, 'Hypothyroidism, also called underactive thyroid or low thyroid, is a disorder of the endocrine system in which the thyroid gland does not produce enough thyroid hormone.'), (4, \"Psoriasis is a common skin disorder that forms thick, red, bumpy patches covered with silvery scales. They can pop up anywhere, but most appear on the scalp, elbows, knees, and lower back. Psoriasis can't be passed from person to person. It does sometimes happen in members of the same family.\"), (5, 'Gastroesophageal reflux disease, or GERD, is a digestive disorder that affects the lower esophageal sphincter (LES), the ring of muscle between the esophagus and stomach. Many people, including pregnant women, suffer from heartburn or acid indigestion caused by GERD.'), (6, 'Chronic cholestatic diseases, whether occurring in infancy, childhood or adulthood, are characterized by defective bile acid transport from the liver to the intestine, which is caused by primary damage to the biliary epithelium in most cases'), (7, \"Hepatitis A is a highly contagious liver infection caused by the hepatitis A virus. The virus is one of several types of hepatitis viruses that cause inflammation and affect your liver's ability to function.\"), (8, 'Osteoarthritis is the most common form of arthritis, affecting millions of people worldwide. It occurs when the protective cartilage that cushions the ends of your bones wears down over time.'), (9, \"Benign paroxysmal positional vertigo (BPPV) is one of the most common causes of vertigo — the sudden sensation that you're spinning or that the inside of your head is spinning. Benign paroxysmal positional vertigo causes brief episodes of mild to intense dizziness.\"), (10, \" Hypoglycemia is a condition in which your blood sugar (glucose) level is lower than normal. Glucose is your body's main energy source. Hypoglycemia is often related to diabetes treatment. But other drugs and a variety of conditions — many rare — can cause low blood sugar in people who don't have diabetes.\"), (11, 'Acne vulgaris is the formation of comedones, papules, pustules, nodules, and/or cysts as a result of obstruction and inflammation of pilosebaceous units (hair follicles and their accompanying sebaceous gland). Acne develops on the face and upper trunk. It most often affects adolescents.'), (12, 'Diabetes is a disease that occurs when your blood glucose, also called blood sugar, is too high. Blood glucose is your main source of energy and comes from the food you eat. Insulin, a hormone made by the pancreas, helps glucose from food get into your cells to be used for energy.'), (13, \"Impetigo (im-puh-TIE-go) is a common and highly contagious skin infection that mainly affects infants and children. Impetigo usually appears as red sores on the face, especially around a child's nose and mouth, and on hands and feet. The sores burst and develop honey-colored crusts.\"), (14, 'Hypertension (HTN or HT), also known as high blood pressure (HBP), is a long-term medical condition in which the blood pressure in the arteries is persistently elevated. High blood pressure typically does not cause symptoms.'), (15, 'Peptic ulcer disease (PUD) is a break in the inner lining of the stomach, the first part of the small intestine, or sometimes the lower esophagus. An ulcer in the stomach is called a gastric ulcer, while one in the first part of the intestines is a duodenal ulcer.'), (16, 'Hemorrhoids, also spelled haemorrhoids, are vascular structures in the anal canal. In their ... Other names, Haemorrhoids, piles, hemorrhoidal disease .'), (17, \"The common cold is a viral infection of your nose and throat (upper respiratory tract). It's usually harmless, although it might not feel that way. Many types of viruses can cause a common cold.\"), (18, 'Chickenpox is a highly contagious disease caused by the varicella-zoster virus (VZV). It can cause an itchy, blister-like rash. The rash first appears on the chest, back, and face, and then spreads over the entire body, causing between 250 and 500 itchy blisters.'), (19, 'Cervical spondylosis is a general term for age-related wear and tear affecting the spinal disks in your neck. As the disks dehydrate and shrink, signs of osteoarthritis develop, including bony projections along the edges of bones (bone spurs).'), (20, \"Hyperthyroidism (overactive thyroid) occurs when your thyroid gland produces too much of the hormone thyroxine. Hyperthyroidism can accelerate your body's metabolism, causing unintentional weight loss and a rapid or irregular heartbeat.\"), (21, 'Urinary tract infection: An infection of the kidney, ureter, bladder, or urethra. Abbreviated UTI. Not everyone with a UTI has symptoms, but common symptoms include a frequent urge to urinate and pain or burning when urinating.'), (22, 'A vein that has enlarged and twisted, often appearing as a bulging, blue blood vessel that is clearly visible through the skin. Varicose veins are most common in older adults, particularly women, and occur especially on the legs.'), (23, \"Acquired immunodeficiency syndrome (AIDS) is a chronic, potentially life-threatening condition caused by the human immunodeficiency virus (HIV). By damaging your immune system, HIV interferes with your body's ability to fight infection and disease.\"), (24, 'Intracerebral hemorrhage (ICH) is when blood suddenly bursts into brain tissue, causing damage to your brain. Symptoms usually appear suddenly during ICH. They include headache, weakness, confusion, and paralysis, particularly on one side of your body.'), (25, 'An acute illness characterized by fever caused by infection with the bacterium Salmonella typhi. Typhoid fever has an insidious onset, with fever, headache, constipation, malaise, chills, and muscle pain. Diarrhea is uncommon, and vomiting is not usually severe.'), (26, \"Hepatitis B is an infection of your liver. It can cause scarring of the organ, liver failure, and cancer. It can be fatal if it isn't treated. It's spread when people come in contact with the blood, open sores, or body fluids of someone who has the hepatitis B virus.\"), (27, 'In humans, fungal infections occur when an invading fungus takes over an area of the body and is too much for the immune system to handle. Fungi can live in the air, soil, water, and plants. There are also some fungi that live naturally in the human body. Like many microbes, there are helpful fungi and harmful fungi.'), (28, 'Inflammation of the liver due to the hepatitis C virus (HCV), which is usually spread via blood transfusion (rare), hemodialysis, and needle sticks. The damage hepatitis C does to the liver can lead to cirrhosis and its complications as well as cancer.'), (29, \"A migraine can cause severe throbbing pain or a pulsing sensation, usually on one side of the head. It's often accompanied by nausea, vomiting, and extreme sensitivity to light and sound. Migraine attacks can last for hours to days, and the pain can be so severe that it interferes with your daily activities.\"), (30, 'Bronchial asthma is a medical condition which causes the airway path of the lungs to swell and narrow. Due to this swelling, the air path produces excess mucus making it hard to breathe, which results in coughing, short breath, and wheezing. The disease is chronic and interferes with daily working.'), (31, \"Alcoholic hepatitis is a diseased, inflammatory condition of the liver caused by heavy alcohol consumption over an extended period of time. It's also aggravated by binge drinking and ongoing alcohol use. If you develop this condition, you must stop drinking alcohol\"), (32, 'Yellow staining of the skin and sclerae (the whites of the eyes) by abnormally high blood levels of the bile pigment bilirubin. The yellowing extends to other tissues and body fluids. Jaundice was once called the \"morbus regius\" (the regal disease) in the belief that only the touch of a king could cure it'), (33, 'A rare form of liver inflammation caused by infection with the hepatitis E virus (HEV). It is transmitted via food or drink handled by an infected person or through infected water supplies in areas where fecal matter may get into the water. Hepatitis E does not cause chronic liver disease.'), (34, 'an acute infectious disease caused by a flavivirus (species Dengue virus of the genus Flavivirus), transmitted by aedes mosquitoes, and characterized by headache, severe joint pain, and a rash. — called also breakbone fever, dengue fever.'), (35, 'Hepatitis D, also known as the hepatitis delta virus, is an infection that causes the liver to become inflamed. This swelling can impair liver function and cause long-term liver problems, including liver scarring and cancer. The condition is caused by the hepatitis D virus (HDV).'), (36, 'The death of heart muscle due to the loss of blood supply. The loss of blood supply is usually caused by a complete blockage of a coronary artery, one of the arteries that supplies blood to the heart muscle.'), (37, 'Pneumonia is an infection in one or both lungs. Bacteria, viruses, and fungi cause it. The infection causes inflammation in the air sacs in your lungs, which are called alveoli. The alveoli fill with fluid or pus, making it difficult to breathe.'), (38, 'Arthritis is the swelling and tenderness of one or more of your joints. The main symptoms of arthritis are joint pain and stiffness, which typically worsen with age. The most common types of arthritis are osteoarthritis and rheumatoid arthritis.'), (39, 'Gastroenteritis is an inflammation of the digestive tract, particularly the stomach, and large and small intestines. Viral and bacterial gastroenteritis are intestinal infections associated with symptoms of diarrhea , abdominal cramps, nausea , and vomiting .'), (40, 'Tuberculosis (TB) is an infectious disease usually caused by Mycobacterium tuberculosis (MTB) bacteria. Tuberculosis generally affects the lungs, but can also affect other parts of the body. Most infections show no symptoms, in which case it is known as latent tuberculosis.')]"
   ]
  },
  {
   "cell_type": "code",
   "execution_count": null,
   "id": "provincial-wedding",
   "metadata": {},
   "outputs": [],
   "source": [
    "z=[(0, 'stop irritation, consult nearest hospital, stop taking drug, follow up'), (1, 'Consult nearest hospital, avoid oily food, avoid non veg food, keep mosquitos out'), (2, 'apply calamine, cover area with bandage, , use ice to compress itching'), (3, 'reduce stress, exercise, eat healthy, get proper sleep'), (4, 'wash hands with warm soapy water, stop bleeding using pressure, consult doctor, salt baths'), (5, 'avoid fatty spicy food, avoid lying down after eating, maintain healthy weight, exercise'), (6, 'cold baths, anti itch medicine, consult doctor, eat healthy'), (7, 'Consult nearest hospital, wash hands through, avoid fatty spicy food, medication'), (8, 'acetaminophen, consult nearest hospital, follow up, salt baths'), (9, 'lie down, avoid sudden change in body, avoid abrupt head movment, relax'), (10, 'lie down on side, check in pulse, drink sugary drinks, consult doctor'), (11, 'bath twice, avoid fatty spicy food, drink plenty of water, avoid too many products'), (12, 'have balanced diet, exercise, consult doctor, follow up'), (13, 'soak affected area in warm water, use antibiotics, remove scabs with wet compressed cloth, consult doctor'), (14, 'meditation, salt baths, reduce stress, get proper sleep'), (15, 'avoid fatty spicy food, consume probiotic food, eliminate milk, limit alcohol'), (16, 'avoid fatty spicy food, consume witch hazel, warm bath with epsom salt, consume alovera juice'), (17, 'drink vitamin c rich drinks, take vapour, avoid cold food, keep fever in check'), (18, 'use neem in bathing , consume neem leaves, take vaccine, avoid public places'), (19, 'use heating pad or cold pack, exercise, take otc pain reliver, consult doctor'), (20, 'eat healthy, massage, use lemon balm, take radioactive iodine treatment'), (21, 'drink plenty of water, increase vitamin c intake, drink cranberry juice, take probiotics'), (22, 'lie down flat and raise the leg high, use oinments, use vein compression, dont stand still for long'), (23, 'avoid open cuts, wear ppe if possible, consult doctor, follow up'), (24, 'massage, eat healthy, exercise, consult doctor'), (25, 'eat high calorie vegitables, antiboitic therapy, consult doctor, medication'), (26, 'consult nearest hospital, vaccination, eat healthy, medication'), (27, 'bath twice, use detol or neem in bathing water, keep infected area dry, use clean cloths'), (28, 'Consult nearest hospital, vaccination, eat healthy, medication'), (29, 'meditation, reduce stress, use poloroid glasses in sun, consult doctor'), (30, 'switch to loose cloothing, take deep breaths, get away from trigger, seek help'), (31, 'stop alcohol consumption, consult doctor, medication, follow up'), (32, 'drink plenty of water, consume milk thistle, eat fruits and high fiberous food, medication'), (33, 'stop alcohol consumption, rest, consult doctor, medication'), (34, 'drink papaya leaf juice, avoid fatty spicy food, keep mosquitos away, keep hydrated'), (35, 'consult doctor, medication, eat healthy, follow up'), (36, 'call ambulance, chew or swallow asprin, keep calm, '), (37, 'consult doctor, medication, rest, follow up'), (38, 'exercise, use hot and cold therapy, try acupuncture, massage'), (39, 'stop eating solid food for while, try taking small sips of water, rest, ease back into eating'), (40, 'cover mouth, consult doctor, medication, rest')]"
   ]
  },
  {
   "cell_type": "code",
   "execution_count": null,
   "id": "pleasant-contemporary",
   "metadata": {},
   "outputs": [],
   "source": []
  },
  {
   "cell_type": "code",
   "execution_count": null,
   "id": "blocked-collar",
   "metadata": {},
   "outputs": [],
   "source": []
  },
  {
   "cell_type": "code",
   "execution_count": null,
   "id": "unavailable-participant",
   "metadata": {},
   "outputs": [],
   "source": []
  },
  {
   "cell_type": "code",
   "execution_count": null,
   "id": "fresh-excess",
   "metadata": {},
   "outputs": [],
   "source": []
  },
  {
   "cell_type": "code",
   "execution_count": null,
   "id": "electric-exposure",
   "metadata": {},
   "outputs": [],
   "source": []
  }
 ],
 "metadata": {
  "kernelspec": {
   "display_name": "Python 3",
   "language": "python",
   "name": "python3"
  },
  "language_info": {
   "codemirror_mode": {
    "name": "ipython",
    "version": 3
   },
   "file_extension": ".py",
   "mimetype": "text/x-python",
   "name": "python",
   "nbconvert_exporter": "python",
   "pygments_lexer": "ipython3",
   "version": "3.7.9"
  }
 },
 "nbformat": 4,
 "nbformat_minor": 5
}
